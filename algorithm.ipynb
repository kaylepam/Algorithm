{
  "cells": [
    {
      "cell_type": "markdown",
      "metadata": {
        "id": "view-in-github",
        "colab_type": "text"
      },
      "source": [
        "<a href=\"https://colab.research.google.com/github/kaylepam/Algorithm/blob/main/algorithm.ipynb\" target=\"_parent\"><img src=\"https://colab.research.google.com/assets/colab-badge.svg\" alt=\"Open In Colab\"/></a>"
      ]
    },
    {
      "cell_type": "code",
      "execution_count": null,
      "id": "082d7ba0",
      "metadata": {
        "id": "082d7ba0",
        "outputId": "327ebdfe-f9fb-4bcf-8e04-ffc310f3dd77"
      },
      "outputs": [
        {
          "name": "stdout",
          "output_type": "stream",
          "text": [
            "True\n",
            "False\n"
          ]
        }
      ],
      "source": [
        "def solution_1(arr):\n",
        "    result=[]\n",
        "    for i in arr:\n",
        "        if i.isalnum():\n",
        "            result.append(i.lower())\n",
        "    max_n=len(result)-1\n",
        "    min_n=0\n",
        "    for i in result:\n",
        "        if max_n<=min_n:\n",
        "            return True        \n",
        "        if result[min_n]!=result[max_n]:\n",
        "            return False\n",
        "        max_n-=1\n",
        "        min_n+=1\n",
        "\n",
        "\n",
        "\n",
        "\n",
        "a = 'A man, a plan, a canal: Panama'\n",
        "b = 'race a car'\n",
        "\n",
        "print(solution_1(a))\n",
        "print(solution_1(b))"
      ]
    },
    {
      "cell_type": "code",
      "execution_count": null,
      "id": "993887dd",
      "metadata": {
        "colab": {
          "base_uri": "https://localhost:8080/"
        },
        "id": "993887dd",
        "outputId": "24328ae4-cb81-463d-f6bb-61a80a27597d"
      },
      "outputs": [
        {
          "output_type": "stream",
          "name": "stdout",
          "text": [
            "['o', 'l', 'l', 'e', 'h']\n",
            "['h', 'a', 'n', 'n', 'a', 'H']\n"
          ]
        }
      ],
      "source": [
        "def solution_2(arr):\n",
        "    result=list(arr)\n",
        "    return result[::-1]\n",
        "\n",
        "a=[\"h\",\"e\",\"l\",\"l\",\"o\"]\n",
        "b=[\"H\",\"a\",\"n\",\"n\",\"a\",\"h\"]\n",
        "\n",
        "\n",
        "print(solution_2(a))\n",
        "print(solution_2(b))\n"
      ]
    },
    {
      "cell_type": "code",
      "source": [
        "def solution_3(logs):\n",
        "    letters, digits = [], []\n",
        "    for log in logs:\n",
        "        if log.split()[1].isdigit():\n",
        "            digits.append(log)\n",
        "        else:\n",
        "            letters.append(log)\n",
        "\n",
        "    letters.sort(key=lambda x: (x.split()[1:],x.split()[0]))\n",
        "    return letters+digits\n",
        "\n",
        "a=['dig1 8 1 5 1','let1 art can','let2 own kit dig','let3 art zero']\n",
        "\n",
        "print(solution_3(a))"
      ],
      "metadata": {
        "id": "IarLwizNhBH8",
        "colab": {
          "base_uri": "https://localhost:8080/"
        },
        "outputId": "36d3a908-9367-4db1-ac46-bbd7529f9f37"
      },
      "id": "IarLwizNhBH8",
      "execution_count": null,
      "outputs": [
        {
          "output_type": "stream",
          "name": "stdout",
          "text": [
            "['let1 art can', 'let3 art zero', 'let2 own kit dig', 'dig1 8 1 5 1']\n"
          ]
        }
      ]
    },
    {
      "cell_type": "code",
      "source": [
        "import re\n",
        "import collections\n",
        "from collections import Counter\n",
        "\n",
        "def solution_4(paragraph,banned):\n",
        "    words = [word for word in re.sub(r'[^\\w]',' ',paragraph).lower().split() if word not in banned]\n",
        "    count = collections.Counter(words)\n",
        "    return count.most_common(1)[0][0]\n",
        "\n",
        "\n",
        "paragraph = \"Bob hit a ball, the hit BALL flew far after it was hit.\"\n",
        "banned = ['hit']\n",
        "\n",
        "solution_4(paragraph,banned)"
      ],
      "metadata": {
        "id": "pR77-hV4JrSH",
        "colab": {
          "base_uri": "https://localhost:8080/",
          "height": 35
        },
        "outputId": "0af33120-b124-4973-d0c4-e764e848ae24"
      },
      "id": "pR77-hV4JrSH",
      "execution_count": null,
      "outputs": [
        {
          "output_type": "execute_result",
          "data": {
            "text/plain": [
              "'ball'"
            ],
            "application/vnd.google.colaboratory.intrinsic+json": {
              "type": "string"
            }
          },
          "metadata": {},
          "execution_count": 14
        }
      ]
    },
    {
      "cell_type": "code",
      "source": [
        "import collections\n",
        "def solution_5(arr):\n",
        "    anagram = collections.defaultdict(list)\n",
        "\n",
        "    for word in arr:\n",
        "        anagram[''.join(sorted(word))].append(word)\n",
        "\n",
        "    return list(anagram.values())\n",
        "    \n",
        "\n",
        "\n",
        "arr=['eat','tea','tan','ate','nat','bat']\n",
        "\n",
        "print(solution_5(arr))"
      ],
      "metadata": {
        "id": "VAQhYpsUb0ms",
        "colab": {
          "base_uri": "https://localhost:8080/"
        },
        "outputId": "3b064eca-2504-4b3a-9041-45ce94c2dde6"
      },
      "id": "VAQhYpsUb0ms",
      "execution_count": null,
      "outputs": [
        {
          "output_type": "stream",
          "name": "stdout",
          "text": [
            "[['eat', 'tea', 'ate'], ['tan', 'nat'], ['bat']]\n"
          ]
        }
      ]
    },
    {
      "cell_type": "code",
      "source": [
        "### KT coding test ###\n",
        "\n",
        "n = float(input())\n",
        "\n",
        "int_part = int(n)\n",
        "binary_str = ''\n",
        "frac_part = n - int_part\n",
        "\n",
        "while frac_part > 0:\n",
        "    frac_part *= 2\n",
        "    if frac_part >= 1:\n",
        "        binary_str += '1'\n",
        "        frac_part -= 1\n",
        "    else:\n",
        "        binary_str += '0'\n",
        "\n",
        "result = bin(int_part)[2:] + '.' + binary_str[:10]\n",
        "print(result)\n"
      ],
      "metadata": {
        "id": "Y0o1SLlGlGGn",
        "colab": {
          "base_uri": "https://localhost:8080/"
        },
        "outputId": "d19c0210-b6ff-476d-8f84-779b049e4246"
      },
      "id": "Y0o1SLlGlGGn",
      "execution_count": null,
      "outputs": [
        {
          "output_type": "stream",
          "name": "stdout",
          "text": [
            "0.625\n",
            "0.101\n"
          ]
        }
      ]
    },
    {
      "cell_type": "code",
      "source": [
        "### KT coding test ###\n",
        "\n",
        "hex_code = input()\n",
        "\n",
        "r = int(hex_code[1:3], 16)\n",
        "g = int(hex_code[3:5], 16)\n",
        "b = int(hex_code[5:], 16)\n",
        "\n",
        "r_inv = 255 - r\n",
        "g_inv = 255 - g\n",
        "b_inv = 255 - b\n",
        "\n",
        "hex_r_inv = hex(r_inv)[2:].zfill(2)\n",
        "hex_g_inv = hex(g_inv)[2:].zfill(2)\n",
        "hex_b_inv = hex(b_inv)[2:].zfill(2)\n",
        "\n",
        "new_hex_code = '#' + hex_r_inv + hex_g_inv + hex_b_inv\n",
        "print(new_hex_code.upper())"
      ],
      "metadata": {
        "colab": {
          "base_uri": "https://localhost:8080/"
        },
        "id": "1rRYncji1Psg",
        "outputId": "a5fa4c58-5ce6-4abb-ad63-41f3f4b59d80"
      },
      "id": "1rRYncji1Psg",
      "execution_count": null,
      "outputs": [
        {
          "output_type": "stream",
          "name": "stdout",
          "text": [
            "#123456\n",
            "#EDCBA9\n"
          ]
        }
      ]
    },
    {
      "cell_type": "code",
      "source": [
        "### KT coding test ###\n",
        "\n",
        "numbers = list(map(int, input().split()))\n",
        "\n",
        "for i in range(6):\n",
        "    for j in range(i+1, 6):\n",
        "        for k in range(j+1, 6):\n",
        "            if numbers[i] + numbers[j] + numbers[k] == sum(numbers) / 2:\n",
        "                print(\"possible\")\n",
        "                exit()\n",
        "\n",
        "print(\"impossible\")"
      ],
      "metadata": {
        "colab": {
          "base_uri": "https://localhost:8080/"
        },
        "id": "9ItwiuI42evk",
        "outputId": "ad8b9984-23e1-42db-bd3d-be4b7381ada7"
      },
      "id": "9ItwiuI42evk",
      "execution_count": null,
      "outputs": [
        {
          "output_type": "stream",
          "name": "stdout",
          "text": [
            "1 5 9 2 2 5\n",
            "possible\n",
            "possible\n",
            "possible\n",
            "possible\n",
            "impossible\n"
          ]
        }
      ]
    },
    {
      "cell_type": "code",
      "source": [
        "### KT coding test ###\n",
        "\n",
        "num = int(input())\n",
        "b=list(map(int,input().split()))\n",
        "result=1\n",
        "min_num=b[0]\n",
        "for i in range(num-1):\n",
        "    if b[i+1]>min_num:\n",
        "        min_num=b[i+1]\n",
        "        result+=1\n",
        "print(result)\n"
      ],
      "metadata": {
        "id": "hI83fTJZ3ZtO",
        "colab": {
          "base_uri": "https://localhost:8080/"
        },
        "outputId": "5d37b0fe-e7f6-4501-d7c4-5f89ee6cec5f"
      },
      "id": "hI83fTJZ3ZtO",
      "execution_count": 6,
      "outputs": [
        {
          "output_type": "stream",
          "name": "stdout",
          "text": [
            "3\n",
            "3 2 1\n",
            "1\n"
          ]
        }
      ]
    },
    {
      "cell_type": "code",
      "source": [
        "### KT coding test ###  틀린답... 문제 이해를 잘못했었음\n",
        "from collections import deque\n",
        "\n",
        "num = int(input())\n",
        "deq = deque(range(1,num+1))\n",
        "b=list(map(int,input().split()))\n",
        "result=0\n",
        "for i in range(num):\n",
        "    if b[i]==deq[0]:\n",
        "        deq.popleft()\n",
        "    elif b[i]==deq.pop():\n",
        "        pass\n",
        "    else:\n",
        "        result=1\n",
        "\n",
        "if result==0:\n",
        "    print('YES')\n",
        "else:\n",
        "    print('NO')"
      ],
      "metadata": {
        "colab": {
          "base_uri": "https://localhost:8080/"
        },
        "id": "352qKxJ3LjXq",
        "outputId": "7dd6c260-a34f-4e0b-e1b4-369ca50ca086"
      },
      "id": "352qKxJ3LjXq",
      "execution_count": 18,
      "outputs": [
        {
          "output_type": "stream",
          "name": "stdout",
          "text": [
            "5\n",
            "1 4 5 3 2\n",
            "NO\n"
          ]
        }
      ]
    },
    {
      "cell_type": "code",
      "source": [
        "### KT coding test ###\n",
        "from collections import deque\n",
        "\n",
        "n = int(input())\n",
        "cards = deque(map(int, input().split()))\n",
        "current = 1\n",
        "while cards:\n",
        "    if cards[0] == current:\n",
        "        cards.popleft()\n",
        "    elif cards[-1] == current:\n",
        "        cards.pop()\n",
        "    else:\n",
        "        print(\"NO\")\n",
        "        break\n",
        "    current += 1\n",
        "\n",
        "if not cards:\n",
        "    print(\"YES\")"
      ],
      "metadata": {
        "colab": {
          "base_uri": "https://localhost:8080/"
        },
        "id": "HGvMX7hPOihE",
        "outputId": "86a9b182-f556-4037-982b-d62dcd2195d3"
      },
      "id": "HGvMX7hPOihE",
      "execution_count": 17,
      "outputs": [
        {
          "output_type": "stream",
          "name": "stdout",
          "text": [
            "5\n",
            "1 4 5 3 2\n",
            "YES\n"
          ]
        }
      ]
    },
    {
      "cell_type": "code",
      "source": [],
      "metadata": {
        "id": "SDn4tQPfPVwo"
      },
      "id": "SDn4tQPfPVwo",
      "execution_count": null,
      "outputs": []
    }
  ],
  "metadata": {
    "kernelspec": {
      "display_name": "Python 3 (ipykernel)",
      "language": "python",
      "name": "python3"
    },
    "language_info": {
      "codemirror_mode": {
        "name": "ipython",
        "version": 3
      },
      "file_extension": ".py",
      "mimetype": "text/x-python",
      "name": "python",
      "nbconvert_exporter": "python",
      "pygments_lexer": "ipython3",
      "version": "3.9.13"
    },
    "colab": {
      "provenance": [],
      "include_colab_link": true
    }
  },
  "nbformat": 4,
  "nbformat_minor": 5
}