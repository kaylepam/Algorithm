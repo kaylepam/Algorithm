{
  "cells": [
    {
      "cell_type": "markdown",
      "metadata": {
        "id": "view-in-github",
        "colab_type": "text"
      },
      "source": [
        "<a href=\"https://colab.research.google.com/github/kaylepam/Algorithm/blob/main/algorithm.ipynb\" target=\"_parent\"><img src=\"https://colab.research.google.com/assets/colab-badge.svg\" alt=\"Open In Colab\"/></a>"
      ]
    },
    {
      "cell_type": "code",
      "execution_count": null,
      "id": "082d7ba0",
      "metadata": {
        "id": "082d7ba0",
        "outputId": "327ebdfe-f9fb-4bcf-8e04-ffc310f3dd77"
      },
      "outputs": [
        {
          "name": "stdout",
          "output_type": "stream",
          "text": [
            "True\n",
            "False\n"
          ]
        }
      ],
      "source": [
        "def solution_1(arr):\n",
        "    result=[]\n",
        "    for i in arr:\n",
        "        if i.isalnum():\n",
        "            result.append(i.lower())\n",
        "    max_n=len(result)-1\n",
        "    min_n=0\n",
        "    for i in result:\n",
        "        if max_n<=min_n:\n",
        "            return True        \n",
        "        if result[min_n]!=result[max_n]:\n",
        "            return False\n",
        "        max_n-=1\n",
        "        min_n+=1\n",
        "\n",
        "\n",
        "\n",
        "\n",
        "a = 'A man, a plan, a canal: Panama'\n",
        "b = 'race a car'\n",
        "\n",
        "print(solution_1(a))\n",
        "print(solution_1(b))"
      ]
    },
    {
      "cell_type": "code",
      "execution_count": null,
      "id": "993887dd",
      "metadata": {
        "colab": {
          "base_uri": "https://localhost:8080/"
        },
        "id": "993887dd",
        "outputId": "24328ae4-cb81-463d-f6bb-61a80a27597d"
      },
      "outputs": [
        {
          "output_type": "stream",
          "name": "stdout",
          "text": [
            "['o', 'l', 'l', 'e', 'h']\n",
            "['h', 'a', 'n', 'n', 'a', 'H']\n"
          ]
        }
      ],
      "source": [
        "def solution_2(arr):\n",
        "    result=list(arr)\n",
        "    return result[::-1]\n",
        "\n",
        "a=[\"h\",\"e\",\"l\",\"l\",\"o\"]\n",
        "b=[\"H\",\"a\",\"n\",\"n\",\"a\",\"h\"]\n",
        "\n",
        "\n",
        "print(solution_2(a))\n",
        "print(solution_2(b))\n"
      ]
    },
    {
      "cell_type": "code",
      "source": [
        "def solution_3(logs):\n",
        "    letters, digits = [], []\n",
        "    for log in logs:\n",
        "        if log.split()[1].isdigit():\n",
        "            digits.append(log)\n",
        "        else:\n",
        "            letters.append(log)\n",
        "\n",
        "    letters.sort(key=lambda x: (x.split()[1:],x.split()[0]))\n",
        "    return letters+digits\n",
        "\n",
        "a=['dig1 8 1 5 1','let1 art can','let2 own kit dig','let3 art zero']\n",
        "\n",
        "print(solution_3(a))"
      ],
      "metadata": {
        "id": "IarLwizNhBH8",
        "colab": {
          "base_uri": "https://localhost:8080/"
        },
        "outputId": "36d3a908-9367-4db1-ac46-bbd7529f9f37"
      },
      "id": "IarLwizNhBH8",
      "execution_count": null,
      "outputs": [
        {
          "output_type": "stream",
          "name": "stdout",
          "text": [
            "['let1 art can', 'let3 art zero', 'let2 own kit dig', 'dig1 8 1 5 1']\n"
          ]
        }
      ]
    },
    {
      "cell_type": "code",
      "source": [
        "def solution_4(paragraph,banned):"
      ],
      "metadata": {
        "id": "pR77-hV4JrSH"
      },
      "id": "pR77-hV4JrSH",
      "execution_count": null,
      "outputs": []
    }
  ],
  "metadata": {
    "kernelspec": {
      "display_name": "Python 3 (ipykernel)",
      "language": "python",
      "name": "python3"
    },
    "language_info": {
      "codemirror_mode": {
        "name": "ipython",
        "version": 3
      },
      "file_extension": ".py",
      "mimetype": "text/x-python",
      "name": "python",
      "nbconvert_exporter": "python",
      "pygments_lexer": "ipython3",
      "version": "3.9.13"
    },
    "colab": {
      "provenance": [],
      "include_colab_link": true
    }
  },
  "nbformat": 4,
  "nbformat_minor": 5
}