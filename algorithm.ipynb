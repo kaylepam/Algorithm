{
  "cells": [
    {
      "cell_type": "markdown",
      "metadata": {
        "colab_type": "text",
        "id": "view-in-github"
      },
      "source": [
        "<a href=\"https://colab.research.google.com/github/kaylepam/Algorithm/blob/main/algorithm.ipynb\" target=\"_parent\"><img src=\"https://colab.research.google.com/assets/colab-badge.svg\" alt=\"Open In Colab\"/></a>"
      ]
    },
    {
      "cell_type": "markdown",
      "id": "49346f3f",
      "metadata": {},
      "source": [
        "# 파이썬 알고리즘 인터뷰"
      ]
    },
    {
      "cell_type": "code",
      "execution_count": null,
      "id": "082d7ba0",
      "metadata": {
        "id": "082d7ba0",
        "outputId": "327ebdfe-f9fb-4bcf-8e04-ffc310f3dd77"
      },
      "outputs": [
        {
          "name": "stdout",
          "output_type": "stream",
          "text": [
            "True\n",
            "False\n"
          ]
        }
      ],
      "source": [
        "def solution_1(arr):\n",
        "    result=[]\n",
        "    for i in arr:\n",
        "        if i.isalnum():\n",
        "            result.append(i.lower())\n",
        "    max_n=len(result)-1\n",
        "    min_n=0\n",
        "    for i in result:\n",
        "        if max_n<=min_n:\n",
        "            return True        \n",
        "        if result[min_n]!=result[max_n]:\n",
        "            return False\n",
        "        max_n-=1\n",
        "        min_n+=1\n",
        "\n",
        "\n",
        "\n",
        "\n",
        "a = 'A man, a plan, a canal: Panama'\n",
        "b = 'race a car'\n",
        "\n",
        "print(solution_1(a))\n",
        "print(solution_1(b))"
      ]
    },
    {
      "cell_type": "code",
      "execution_count": 10,
      "id": "993887dd",
      "metadata": {
        "colab": {
          "base_uri": "https://localhost:8080/"
        },
        "id": "993887dd",
        "outputId": "24328ae4-cb81-463d-f6bb-61a80a27597d"
      },
      "outputs": [
        {
          "name": "stdout",
          "output_type": "stream",
          "text": [
            "['o', 'l', 'l', 'e', 'h']\n",
            "['h', 'a', 'n', 'n', 'a', 'H']\n"
          ]
        }
      ],
      "source": [
        "def solution_2(arr):\n",
        "    return arr[::-1]\n",
        "\n",
        "a=[\"h\",\"e\",\"l\",\"l\",\"o\"]\n",
        "b=[\"H\",\"a\",\"n\",\"n\",\"a\",\"h\"]\n",
        "\n",
        "\n",
        "print(solution_2(a))\n",
        "print(solution_2(b))\n"
      ]
    },
    {
      "cell_type": "code",
      "execution_count": null,
      "id": "IarLwizNhBH8",
      "metadata": {
        "colab": {
          "base_uri": "https://localhost:8080/"
        },
        "id": "IarLwizNhBH8",
        "outputId": "36d3a908-9367-4db1-ac46-bbd7529f9f37"
      },
      "outputs": [
        {
          "name": "stdout",
          "output_type": "stream",
          "text": [
            "['let1 art can', 'let3 art zero', 'let2 own kit dig', 'dig1 8 1 5 1']\n"
          ]
        }
      ],
      "source": [
        "def solution_3(logs):\n",
        "    letters, digits = [], []\n",
        "    for log in logs:\n",
        "        if log.split()[1].isdigit():\n",
        "            digits.append(log)\n",
        "        else:\n",
        "            letters.append(log)\n",
        "\n",
        "    letters.sort(key=lambda x: (x.split()[1:],x.split()[0]))\n",
        "    return letters+digits\n",
        "\n",
        "a=['dig1 8 1 5 1','let1 art can','let2 own kit dig','let3 art zero']\n",
        "\n",
        "print(solution_3(a))"
      ]
    },
    {
      "cell_type": "code",
      "execution_count": null,
      "id": "pR77-hV4JrSH",
      "metadata": {
        "colab": {
          "base_uri": "https://localhost:8080/",
          "height": 35
        },
        "id": "pR77-hV4JrSH",
        "outputId": "0af33120-b124-4973-d0c4-e764e848ae24"
      },
      "outputs": [
        {
          "data": {
            "application/vnd.google.colaboratory.intrinsic+json": {
              "type": "string"
            },
            "text/plain": [
              "'ball'"
            ]
          },
          "execution_count": 14,
          "metadata": {},
          "output_type": "execute_result"
        }
      ],
      "source": [
        "import re\n",
        "import collections\n",
        "from collections import Counter\n",
        "\n",
        "def solution_4(paragraph,banned):\n",
        "    words = [word for word in re.sub(r'[^\\w]',' ',paragraph).lower().split() if word not in banned]\n",
        "    count = collections.Counter(words)\n",
        "    return count.most_common(1)[0][0]\n",
        "\n",
        "\n",
        "paragraph = \"Bob hit a ball, the hit BALL flew far after it was hit.\"\n",
        "banned = ['hit']\n",
        "\n",
        "solution_4(paragraph,banned)"
      ]
    },
    {
      "cell_type": "code",
      "execution_count": 19,
      "id": "VAQhYpsUb0ms",
      "metadata": {
        "colab": {
          "base_uri": "https://localhost:8080/"
        },
        "id": "VAQhYpsUb0ms",
        "outputId": "3b064eca-2504-4b3a-9041-45ce94c2dde6"
      },
      "outputs": [
        {
          "name": "stdout",
          "output_type": "stream",
          "text": [
            "[['eat', 'tea', 'ate'], ['tan', 'nat'], ['bat']]\n"
          ]
        }
      ],
      "source": [
        "import collections\n",
        "def solution_5(arr):\n",
        "    anagram = collections.defaultdict(list)\n",
        "\n",
        "    for word in arr:\n",
        "        anagram[''.join(sorted(word))].append(word)\n",
        "\n",
        "    return list(anagram.values())\n",
        "    \n",
        "\n",
        "\n",
        "arr=['eat','tea','tan','ate','nat','bat']\n",
        "\n",
        "print(solution_5(arr))"
      ]
    },
    {
      "cell_type": "markdown",
      "id": "b4d22048",
      "metadata": {},
      "source": [
        "# KT 코딩마스터즈"
      ]
    },
    {
      "cell_type": "code",
      "execution_count": null,
      "id": "Y0o1SLlGlGGn",
      "metadata": {
        "colab": {
          "base_uri": "https://localhost:8080/"
        },
        "id": "Y0o1SLlGlGGn",
        "outputId": "d19c0210-b6ff-476d-8f84-779b049e4246"
      },
      "outputs": [
        {
          "name": "stdout",
          "output_type": "stream",
          "text": [
            "0.625\n",
            "0.101\n"
          ]
        }
      ],
      "source": [
        "### KT coding test ###\n",
        "\n",
        "n = float(input())\n",
        "\n",
        "int_part = int(n)\n",
        "binary_str = ''\n",
        "frac_part = n - int_part\n",
        "\n",
        "while frac_part > 0:\n",
        "    frac_part *= 2\n",
        "    if frac_part >= 1:\n",
        "        binary_str += '1'\n",
        "        frac_part -= 1\n",
        "    else:\n",
        "        binary_str += '0'\n",
        "\n",
        "result = bin(int_part)[2:] + '.' + binary_str[:10]\n",
        "print(result)\n"
      ]
    },
    {
      "cell_type": "code",
      "execution_count": null,
      "id": "1rRYncji1Psg",
      "metadata": {
        "colab": {
          "base_uri": "https://localhost:8080/"
        },
        "id": "1rRYncji1Psg",
        "outputId": "a5fa4c58-5ce6-4abb-ad63-41f3f4b59d80"
      },
      "outputs": [
        {
          "name": "stdout",
          "output_type": "stream",
          "text": [
            "#123456\n",
            "#EDCBA9\n"
          ]
        }
      ],
      "source": [
        "### KT coding test ###\n",
        "\n",
        "hex_code = input()\n",
        "\n",
        "r = int(hex_code[1:3], 16)\n",
        "g = int(hex_code[3:5], 16)\n",
        "b = int(hex_code[5:], 16)\n",
        "\n",
        "r_inv = 255 - r\n",
        "g_inv = 255 - g\n",
        "b_inv = 255 - b\n",
        "\n",
        "hex_r_inv = hex(r_inv)[2:].zfill(2)\n",
        "hex_g_inv = hex(g_inv)[2:].zfill(2)\n",
        "hex_b_inv = hex(b_inv)[2:].zfill(2)\n",
        "\n",
        "new_hex_code = '#' + hex_r_inv + hex_g_inv + hex_b_inv\n",
        "print(new_hex_code.upper())"
      ]
    },
    {
      "cell_type": "code",
      "execution_count": null,
      "id": "9ItwiuI42evk",
      "metadata": {
        "colab": {
          "base_uri": "https://localhost:8080/"
        },
        "id": "9ItwiuI42evk",
        "outputId": "ad8b9984-23e1-42db-bd3d-be4b7381ada7"
      },
      "outputs": [
        {
          "name": "stdout",
          "output_type": "stream",
          "text": [
            "1 5 9 2 2 5\n",
            "possible\n",
            "possible\n",
            "possible\n",
            "possible\n",
            "impossible\n"
          ]
        }
      ],
      "source": [
        "### KT coding test ###\n",
        "\n",
        "numbers = list(map(int, input().split()))\n",
        "\n",
        "for i in range(6):\n",
        "    for j in range(i+1, 6):\n",
        "        for k in range(j+1, 6):\n",
        "            if numbers[i] + numbers[j] + numbers[k] == sum(numbers) / 2:\n",
        "                print(\"possible\")\n",
        "                exit()\n",
        "\n",
        "print(\"impossible\")"
      ]
    },
    {
      "cell_type": "code",
      "execution_count": null,
      "id": "hI83fTJZ3ZtO",
      "metadata": {
        "colab": {
          "base_uri": "https://localhost:8080/"
        },
        "id": "hI83fTJZ3ZtO",
        "outputId": "5d37b0fe-e7f6-4501-d7c4-5f89ee6cec5f"
      },
      "outputs": [
        {
          "name": "stdout",
          "output_type": "stream",
          "text": [
            "3\n",
            "3 2 1\n",
            "1\n"
          ]
        }
      ],
      "source": [
        "### KT coding test ###\n",
        "\n",
        "num = int(input())\n",
        "b=list(map(int,input().split()))\n",
        "result=1\n",
        "min_num=b[0]\n",
        "for i in range(num-1):\n",
        "    if b[i+1]>min_num:\n",
        "        min_num=b[i+1]\n",
        "        result+=1\n",
        "print(result)\n"
      ]
    },
    {
      "cell_type": "code",
      "execution_count": null,
      "id": "352qKxJ3LjXq",
      "metadata": {
        "colab": {
          "base_uri": "https://localhost:8080/"
        },
        "id": "352qKxJ3LjXq",
        "outputId": "7dd6c260-a34f-4e0b-e1b4-369ca50ca086"
      },
      "outputs": [
        {
          "name": "stdout",
          "output_type": "stream",
          "text": [
            "5\n",
            "1 4 5 3 2\n",
            "NO\n"
          ]
        }
      ],
      "source": [
        "### KT coding test ###  틀린답... 문제 이해를 잘못했었음\n",
        "from collections import deque\n",
        "\n",
        "num = int(input())\n",
        "deq = deque(range(1,num+1))\n",
        "b=list(map(int,input().split()))\n",
        "result=0\n",
        "for i in range(num):\n",
        "    if b[i]==deq[0]:\n",
        "        deq.popleft()\n",
        "    elif b[i]==deq.pop():\n",
        "        pass\n",
        "    else:\n",
        "        result=1\n",
        "\n",
        "if result==0:\n",
        "    print('YES')\n",
        "else:\n",
        "    print('NO')"
      ]
    },
    {
      "cell_type": "code",
      "execution_count": null,
      "id": "HGvMX7hPOihE",
      "metadata": {
        "colab": {
          "base_uri": "https://localhost:8080/"
        },
        "id": "HGvMX7hPOihE",
        "outputId": "86a9b182-f556-4037-982b-d62dcd2195d3"
      },
      "outputs": [
        {
          "name": "stdout",
          "output_type": "stream",
          "text": [
            "5\n",
            "1 4 5 3 2\n",
            "YES\n"
          ]
        }
      ],
      "source": [
        "### KT coding test ###\n",
        "from collections import deque\n",
        "\n",
        "n = int(input())\n",
        "cards = deque(map(int, input().split()))\n",
        "current = 1\n",
        "while cards:\n",
        "    if cards[0] == current:\n",
        "        cards.popleft()\n",
        "    elif cards[-1] == current:\n",
        "        cards.pop()\n",
        "    else:\n",
        "        print(\"NO\")\n",
        "        break\n",
        "    current += 1\n",
        "\n",
        "if not cards:\n",
        "    print(\"YES\")"
      ]
    },
    {
      "cell_type": "code",
      "execution_count": null,
      "id": "SDn4tQPfPVwo",
      "metadata": {
        "id": "SDn4tQPfPVwo"
      },
      "outputs": [],
      "source": [
        "### KT coding test ###\n",
        "n = int(input())\n",
        "arr = list(map(int, input().split()))\n",
        "\n",
        "max_val = max(arr)\n",
        "min_val = min(arr)\n",
        "min_diff = float('inf')\n",
        "for i in range(n):\n",
        "    if arr[i] == max_val:\n",
        "        diff = max(arr[:i] + arr[i+1:]) - min_val\n",
        "    elif arr[i] == min_val:\n",
        "        diff = max(arr[:i] + arr[i+1:]) - min(arr[:i] + arr[i+1:])\n",
        "    else:\n",
        "        diff = max(arr[:i] + arr[i+1:]) - min_val\n",
        "    min_diff = min(min_diff, diff)\n",
        "\n",
        "print(min_diff)"
      ]
    },
    {
      "cell_type": "code",
      "execution_count": null,
      "id": "pPTZcHDND61d",
      "metadata": {
        "id": "pPTZcHDND61d"
      },
      "outputs": [],
      "source": [
        "### KT coding test ###\n",
        "n = int(input())\n",
        "\n",
        "stair = [[0] * i for i in range(1, n+1)]\n",
        "num = 1\n",
        "for i in range(n):\n",
        "    for j in range(i+1):\n",
        "        stair[i][j] = num\n",
        "        num += 1\n",
        "\n",
        "for i in range(n):\n",
        "    for j in range(i+1):\n",
        "        print(stair[i][j], end=' ')\n",
        "    print()"
      ]
    },
    {
      "cell_type": "markdown",
      "id": "d7a8f27e",
      "metadata": {},
      "source": [
        "# 알고리즘 인터뷰"
      ]
    },
    {
      "cell_type": "code",
      "execution_count": 7,
      "id": "529a5ae8",
      "metadata": {},
      "outputs": [
        {
          "name": "stdout",
          "output_type": "stream",
          "text": [
            "True\n",
            "False\n",
            "True\n",
            "False\n"
          ]
        }
      ],
      "source": [
        "# 다시 풀어봅시다 1번부터 다시 시작해봐용\n",
        "\n",
        "def pal(list_str : list ):\n",
        "    str=[]\n",
        "    for char in list_str:\n",
        "        if char.isalnum():\n",
        "            str.append(char.lower())\n",
        "    \n",
        "    while len(str)>1:\n",
        "        if str.pop(0) != str.pop():\n",
        "            return False\n",
        "        else:\n",
        "            return True\n",
        "\n",
        "print(pal(\"A man, a plan, a canal: panama\"))\n",
        "print(pal(\"이런이런\"))\n",
        "\n",
        "\n",
        "#다른 해법\n",
        "\n",
        "def pal2(list_str : list):\n",
        "    str=[]\n",
        "    for char in list_str:\n",
        "        if char.isalnum():\n",
        "            str.append(char.lower())\n",
        "    return str==str[::-1]\n",
        "\n",
        "\n",
        "print(pal2(\"A man, a plan, a canal: panama\"))\n",
        "print(pal2(\"이런이런\"))\n",
        "    "
      ]
    },
    {
      "cell_type": "code",
      "execution_count": 13,
      "id": "a49a1f0d",
      "metadata": {},
      "outputs": [
        {
          "name": "stdout",
          "output_type": "stream",
          "text": [
            "['o', 'l', 'l', 'e', 'h']\n",
            "['o', 'l', 'l', 'e', 'h']\n"
          ]
        }
      ],
      "source": [
        "# 2번 문자열 뒤집기\n",
        "\n",
        "def reverse(arr : list):\n",
        "    return arr[::-1]\n",
        "\n",
        "a=['h','e','l','l','o']\n",
        "\n",
        "print(reverse(a))\n",
        "\n",
        "\n",
        "# 타 해법(투포인트)\n",
        "\n",
        "def reverse2(arr : list):\n",
        "    left, right = 0, len(arr)-1\n",
        "    while left < right:\n",
        "        arr[left],arr[right]=arr[right],arr[left]\n",
        "        left+=1\n",
        "        right-=1\n",
        "    \n",
        "    return arr\n",
        "\n",
        "print(reverse2(a))"
      ]
    },
    {
      "cell_type": "code",
      "execution_count": 18,
      "id": "6e204d22",
      "metadata": {},
      "outputs": [
        {
          "name": "stdout",
          "output_type": "stream",
          "text": [
            "['let1 art can', 'let3 art zero', 'let2 own kit dig', 'dig1 8 1 5 1']\n"
          ]
        }
      ],
      "source": [
        "# 3번 로그파일 재정렬\n",
        "\n",
        "def log_sort(log_list : list):\n",
        "    digit,letter=[],[]\n",
        "    result=[]\n",
        "    for char in log_list:\n",
        "        if char.split()[1].isdigit():\n",
        "            digit.append(char)\n",
        "        else:\n",
        "            letter.append(char)\n",
        "    letter.sort(key=lambda x : (x.split()[1:], x.split()[0]))\n",
        "    return letter + digit\n",
        "\n",
        "    \n",
        "\n",
        "\n",
        "\n",
        "a=['dig1 8 1 5 1','let1 art can','let2 own kit dig','let3 art zero']\n",
        "\n",
        "print(log_sort(a))"
      ]
    },
    {
      "cell_type": "code",
      "execution_count": 22,
      "metadata": {},
      "outputs": [
        {
          "name": "stdout",
          "output_type": "stream",
          "text": [
            "True\n"
          ]
        }
      ],
      "source": [
        "# 4번 가장 흔한 단어\n",
        "\n",
        "def common_word(word_list : list):\n",
        "    return True\n",
        "    \n",
        "\n",
        "\n",
        "\n",
        "paragraph = \"Bob hit a ball, the hit BALL flew far after it was hit.\"\n",
        "\n",
        "print(common_word(paragraph))"
      ]
    },
    {
      "cell_type": "markdown",
      "id": "d1db3cc6",
      "metadata": {},
      "source": [
        "# 이것이 코딩 테스트다"
      ]
    },
    {
      "cell_type": "markdown",
      "id": "efeb9f2e",
      "metadata": {},
      "source": [
        "### 그리디"
      ]
    },
    {
      "cell_type": "markdown",
      "id": "b126ba7d",
      "metadata": {},
      "source": [
        "#### 큰 수의 법칙"
      ]
    },
    {
      "cell_type": "code",
      "execution_count": 26,
      "id": "78eddb7f",
      "metadata": {},
      "outputs": [
        {
          "name": "stdout",
          "output_type": "stream",
          "text": [
            "46\n"
          ]
        }
      ],
      "source": [
        "a,b,c = map(int,input().split())\n",
        "\n",
        "list_num = list(map(int,input().split()))\n",
        "list_num.sort(reverse=True)\n",
        "\n",
        "sum=0\n",
        "\n",
        "while b>0:\n",
        "    for _ in range(c):\n",
        "        sum+=list_num[0]\n",
        "        b-=1\n",
        "    if b==0:\n",
        "        break\n",
        "    else:\n",
        "        b-=1\n",
        "        sum+=list_num[1]\n",
        "\n",
        "\n",
        "print(sum)"
      ]
    },
    {
      "cell_type": "markdown",
      "metadata": {},
      "source": [
        "#### 숫자 카드 게임"
      ]
    },
    {
      "cell_type": "code",
      "execution_count": 31,
      "id": "e01655ca",
      "metadata": {},
      "outputs": [
        {
          "name": "stdout",
          "output_type": "stream",
          "text": [
            "3\n"
          ]
        }
      ],
      "source": [
        "N, M = map(int,input().split())\n",
        "\n",
        "row_max=0\n",
        "\n",
        "for _ in range(N):\n",
        "    list_num = list(map(int,input().split()))\n",
        "    if min(list_num)>row_max:\n",
        "        row_max=min(list_num)\n",
        "    # 해당 코드가 틀린 건 아닌데\n",
        "    # row_max=max(row_max, min(list_num))으로 쓸 수도 있다.\n",
        "\n",
        "print(row_max)"
      ]
    },
    {
      "cell_type": "markdown",
      "id": "0217eb5e",
      "metadata": {},
      "source": [
        "#### 1이 될 때까지"
      ]
    },
    {
      "cell_type": "code",
      "execution_count": 34,
      "id": "710fc832",
      "metadata": {},
      "outputs": [
        {
          "name": "stdout",
          "output_type": "stream",
          "text": [
            "2\n"
          ]
        }
      ],
      "source": [
        "N, K = map(int,input().split())\n",
        "\n",
        "count=0\n",
        "\n",
        "while N>1:\n",
        "    while N % K == 0:\n",
        "        N /= K\n",
        "        count+=1\n",
        "    if N==1:\n",
        "        break\n",
        "    else:\n",
        "        N-=1\n",
        "        count+=1\n",
        "\n",
        "print(count)\n",
        "\n"
      ]
    },
    {
      "cell_type": "markdown",
      "id": "8c6f01d9",
      "metadata": {},
      "source": [
        "### 구현"
      ]
    },
    {
      "cell_type": "markdown",
      "id": "b079c40c",
      "metadata": {},
      "source": [
        "#### 상하좌우"
      ]
    },
    {
      "cell_type": "code",
      "execution_count": 39,
      "id": "0b589ea5",
      "metadata": {},
      "outputs": [
        {
          "name": "stdout",
          "output_type": "stream",
          "text": [
            "3 4\n"
          ]
        }
      ],
      "source": [
        "N = int(input())\n",
        "\n",
        "list_type = list(input().split())\n",
        "\n",
        "runtype = ['L','R','U','D']\n",
        "\n",
        "x, y = 1, 1\n",
        "\n",
        "dx = [0, 0, -1, 1]\n",
        "dy = [-1, 1, 0, 0]\n",
        "\n",
        "for plan in list_type:\n",
        "    for i in range(len(runtype)):\n",
        "        if plan == runtype[i]:\n",
        "            nx = x + dx[i]\n",
        "            ny = y + dy[i]\n",
        "    if nx > N or nx < 1 or ny > N or ny < 1:\n",
        "        continue\n",
        "    x,y=nx,ny\n",
        "\n",
        "print(x,y)"
      ]
    },
    {
      "cell_type": "markdown",
      "id": "3dbbe5c8",
      "metadata": {},
      "source": [
        "#### 시각"
      ]
    },
    {
      "cell_type": "code",
      "execution_count": 42,
      "id": "9bc4c48c",
      "metadata": {},
      "outputs": [
        {
          "name": "stdout",
          "output_type": "stream",
          "text": [
            "11475\n"
          ]
        }
      ],
      "source": [
        "hour = int(input())\n",
        "\n",
        "count=0\n",
        "\n",
        "for h in range(hour+1):\n",
        "    for m in range(60):\n",
        "        for s in range(60):\n",
        "            if str(3) in str(h)+str(m)+str(s):\n",
        "                count +=1\n",
        "\n",
        "print(count)"
      ]
    },
    {
      "cell_type": "markdown",
      "id": "f87c7a4e",
      "metadata": {},
      "source": [
        "#### 왕실의 나이트"
      ]
    },
    {
      "cell_type": "code",
      "execution_count": 49,
      "id": "a1117de5",
      "metadata": {},
      "outputs": [
        {
          "name": "stdout",
          "output_type": "stream",
          "text": [
            "2\n"
          ]
        }
      ],
      "source": [
        "a=input()\n",
        "list_chess = list(a)\n",
        "\n",
        "x=ord(list_chess[0])-96\n",
        "y=int(list_chess[1])\n",
        "\n",
        "steps = [(2,1),(2,-1),(1,2),(-1,2),(-2,1),(-2,-1),(-1,-2),(1,-2)]\n",
        "\n",
        "count=0\n",
        "\n",
        "for step in steps:\n",
        "    next_x = x + step[1]\n",
        "    next_y = y + step[0]\n",
        "\n",
        "    if next_x>=1 and next_x<=8 and next_y>=1 and next_y<=8:\n",
        "        count+=1\n",
        "\n",
        "print(count)"
      ]
    },
    {
      "cell_type": "markdown",
      "id": "54fa066b",
      "metadata": {},
      "source": [
        "#### 게임개발"
      ]
    },
    {
      "cell_type": "code",
      "execution_count": 53,
      "id": "cce65060",
      "metadata": {},
      "outputs": [],
      "source": [
        "width, height = map(int,input().split())\n",
        "x, y, direction = map(int,input().split())\n",
        "\n",
        "matrix=[]\n",
        "\n",
        "dy = [-1,0,1,0]\n",
        "dx = [0,1,0,-1]\n",
        "\n",
        "\n",
        "\n",
        "\n",
        "for _ in range(height):\n",
        "    map_row = list(map(int,input().split()))\n",
        "    matrix.append(map_row)\n",
        "\n",
        "\n",
        "\n",
        "##아직 못풀겠음\n"
      ]
    },
    {
      "cell_type": "markdown",
      "id": "acfc7c78",
      "metadata": {},
      "source": [
        "#### 문자열 재정렬"
      ]
    },
    {
      "cell_type": "code",
      "execution_count": 59,
      "id": "c3564497",
      "metadata": {},
      "outputs": [
        {
          "name": "stdout",
          "output_type": "stream",
          "text": [
            "ABCKK13\n"
          ]
        }
      ],
      "source": [
        "a = input()\n",
        "list_quest = list(a)\n",
        "list_str=[]\n",
        "list_sum=0\n",
        "\n",
        "for i in range(len(list_quest)):\n",
        "    if list_quest[i].isalpha():\n",
        "        list_str.append(list_quest[i])\n",
        "    else:\n",
        "        list_sum+=int(list_quest[i])\n",
        "\n",
        "list_str.sort()\n",
        "list_str=\"\".join(list_str)\n",
        "print(list_str+str(list_sum))"
      ]
    },
    {
      "cell_type": "markdown",
      "id": "54702105",
      "metadata": {},
      "source": [
        "### DFS/BFS"
      ]
    },
    {
      "cell_type": "code",
      "execution_count": 60,
      "id": "bb1f2413",
      "metadata": {},
      "outputs": [
        {
          "name": "stdout",
          "output_type": "stream",
          "text": [
            "[[], [], []]\n"
          ]
        }
      ],
      "source": [
        "graph = [[] for _ in range(3)]\n",
        "\n",
        "print(graph)"
      ]
    },
    {
      "cell_type": "code",
      "execution_count": 61,
      "id": "e5942946",
      "metadata": {},
      "outputs": [
        {
          "name": "stdout",
          "output_type": "stream",
          "text": [
            "1 2 7 6 8 3 4 5 "
          ]
        }
      ],
      "source": [
        "#DFS 예제\n",
        "\n",
        "def dfs(graph, v, visited):\n",
        "    visited[v]=True\n",
        "    print(v, end=' ')\n",
        "    for i in graph[v]:\n",
        "        if not visited[i]:\n",
        "            dfs(graph,i,visited)\n",
        "    \n",
        "\n",
        "graph = [\n",
        "\t[],\n",
        "    [2,3,8],\n",
        "    [1,7],\n",
        "    [1,4,5],\n",
        "    [3,5],\n",
        "    [3,4],\n",
        "\t[7],\n",
        "    [2,6,8],\n",
        "    [1,7]\n",
        "]\n",
        "\n",
        "visited=[False]*9\n",
        "\n",
        "dfs(graph,1,visited)\n"
      ]
    },
    {
      "cell_type": "code",
      "execution_count": 2,
      "id": "7e42cd36",
      "metadata": {},
      "outputs": [
        {
          "name": "stdout",
          "output_type": "stream",
          "text": [
            "1 2 3 8 7 4 5 6 "
          ]
        }
      ],
      "source": [
        "# bfs 예제\n",
        "\n",
        "from collections import deque\n",
        "\n",
        "def bfs(graph, start, visited):\n",
        "    queue=deque([start])\n",
        "    visited[start]=True\n",
        "    \n",
        "    while queue:\n",
        "        v = queue.popleft()\n",
        "        print(v,end=' ')\n",
        "        for i in graph[v]:\n",
        "            if not visited[i]:\n",
        "                queue.append(i)\n",
        "                visited[i]=True\n",
        "\n",
        "graph = [\n",
        "\t[],\n",
        "    [2,3,8],\n",
        "    [1,7],\n",
        "    [1,4,5],\n",
        "    [3,5],\n",
        "    [3,4],\n",
        "\t[7],\n",
        "    [2,6,8],\n",
        "    [1,7]\n",
        "]\n",
        "\n",
        "visited=[False]*9\n",
        "\n",
        "bfs(graph,1,visited)"
      ]
    },
    {
      "cell_type": "code",
      "execution_count": 3,
      "id": "d5dbe0bc",
      "metadata": {},
      "outputs": [
        {
          "name": "stdout",
          "output_type": "stream",
          "text": [
            "1 2 3 8 7 4 5 6 1 2 7 6 8 3 4 5 "
          ]
        }
      ],
      "source": [
        "def bfs(graph,start,visited):\n",
        "    queue = deque([start])\n",
        "    visited[start]=True\n",
        "    \n",
        "    while queue:\n",
        "        v = queue.popleft()\n",
        "        print(v,end=\" \")\n",
        "        for i in graph[v]:\n",
        "            if not visited[i]:\n",
        "                visited[i]=True\n",
        "                queue.append(i)\n",
        "\n",
        "\n",
        "def dfs(graph,start,visited):\n",
        "    visited[start]=True\n",
        "    print(start, end=\" \")\n",
        "    for i in graph[start]:\n",
        "        if not visited[i]:\n",
        "            dfs(graph,i,visited)\n",
        "\n",
        "\n",
        "graph = [\n",
        "\t[],\n",
        "    [2,3,8],\n",
        "    [1,7],\n",
        "    [1,4,5],\n",
        "    [3,5],\n",
        "    [3,4],\n",
        "\t[7],\n",
        "    [2,6,8],\n",
        "    [1,7]\n",
        "]\n",
        "\n",
        "visited=[False]*9\n",
        "\n",
        "bfs(graph,1,visited)\n",
        "\n",
        "\n",
        "visited=[False]*9\n",
        "\n",
        "dfs(graph,1,visited)\n",
        "\n"
      ]
    },
    {
      "cell_type": "markdown",
      "id": "18b37a8c",
      "metadata": {},
      "source": [
        "#### 음료수 얼려먹기"
      ]
    },
    {
      "cell_type": "code",
      "execution_count": 4,
      "id": "4eda0507",
      "metadata": {},
      "outputs": [
        {
          "name": "stdout",
          "output_type": "stream",
          "text": [
            "4\n"
          ]
        }
      ],
      "source": [
        "def dfs_grid(x,y):\n",
        "    if x<0 or x>=m or y>=n or y<0:\n",
        "        return False\n",
        "    elif graph[y][x]==1:\n",
        "        return False\n",
        "    graph[y][x]=1\n",
        "    dfs_grid(x+1,y)\n",
        "    dfs_grid(x-1,y)\n",
        "    dfs_grid(x,y+1)\n",
        "    dfs_grid(x,y-1)\n",
        "    return True\n",
        "\n",
        "    \n",
        "\n",
        "\n",
        "\n",
        "n, m = map(int,input().split())\n",
        "\n",
        "graph=[]\n",
        "\n",
        "count=0\n",
        "\n",
        "for i in range(n):\n",
        "    graph.append(list(map(int,input())))\n",
        "\n",
        "for i in range(m):\n",
        "    for j in range(n):\n",
        "        if dfs_grid(i,j)==True:\n",
        "            count+=1\n",
        "\n",
        "print(count)"
      ]
    },
    {
      "cell_type": "code",
      "execution_count": 2,
      "id": "9a05a970",
      "metadata": {},
      "outputs": [
        {
          "name": "stdout",
          "output_type": "stream",
          "text": [
            "3\n"
          ]
        }
      ],
      "source": [
        "def dfs(grid, i, j):\n",
        "    if i < 0 or i >= len(grid) or j < 0 or j >= len(grid[0]) or grid[i][j] == '0':\n",
        "        return\n",
        "    grid[i][j] = '0'\n",
        "    \n",
        "    dfs(grid, i+1, j)\n",
        "    dfs(grid, i-1, j)\n",
        "    dfs(grid, i, j+1)\n",
        "    dfs(grid, i, j-1)\n",
        "\n",
        "def numIslands(grid):\n",
        "    count = 0\n",
        "    for i in range(len(grid)):\n",
        "        for j in range(len(grid[0])):\n",
        "            if grid[i][j] == '1':\n",
        "                dfs(grid, i, j)\n",
        "                count += 1\n",
        "    return count\n",
        "\n",
        "grid = [\n",
        "    ['1', '1', '0', '0'],\n",
        "    ['1', '1', '0', '0'],\n",
        "    ['0', '0', '1', '0'],\n",
        "    ['0', '0', '0', '1']\n",
        "]\n",
        "\n",
        "print(numIslands(grid))  # 출력: 3\n"
      ]
    },
    {
      "cell_type": "markdown",
      "id": "34d92284",
      "metadata": {},
      "source": [
        "#### 미로 탈출"
      ]
    },
    {
      "cell_type": "code",
      "execution_count": 8,
      "id": "4c5d983a",
      "metadata": {},
      "outputs": [
        {
          "name": "stdout",
          "output_type": "stream",
          "text": [
            "10\n"
          ]
        }
      ],
      "source": [
        "from collections import deque\n",
        "\n",
        "def bfs(x,y):\n",
        "    queue=deque()\n",
        "    queue.append((x,y))\n",
        "    while queue:\n",
        "        x, y = queue.popleft()\n",
        "        for i in range(4):\n",
        "            nx = x + dx[i]\n",
        "            ny = y + dy[i]\n",
        "\n",
        "            if nx<0 or nx >= n or ny < 0 or ny >= m:\n",
        "                continue\n",
        "            if graph[nx][ny]==0:\n",
        "                continue\n",
        "            if graph[nx][ny]==1:\n",
        "                graph[nx][ny] = graph[x][y] + 1\n",
        "                queue.append((nx,ny))\n",
        "    return graph[n-1][m-1]\n",
        "\n",
        "\n",
        "n,m = map(int,input().split())\n",
        "\n",
        "graph=[]\n",
        "\n",
        "for _ in range(n):\n",
        "    graph.append(list(map(int,input())))\n",
        "\n",
        "dx=[-1,1,0,0]\n",
        "dy=[0,0,-1,1]\n",
        "\n",
        "print(bfs(0,0))"
      ]
    },
    {
      "cell_type": "code",
      "execution_count": 7,
      "id": "8dc33ac8",
      "metadata": {},
      "outputs": [
        {
          "name": "stdout",
          "output_type": "stream",
          "text": [
            "10\n"
          ]
        }
      ],
      "source": [
        "from collections import deque\n",
        "\n",
        "def bfs(x,y):\n",
        "    queue=deque([(x,y)])\n",
        "    while queue:\n",
        "        x, y = queue.popleft()\n",
        "        for i in range(4):\n",
        "            nx = x + dx[i]\n",
        "            ny = y + dy[i]\n",
        "\n",
        "            if nx<0 or nx >= n or ny < 0 or ny >= m:\n",
        "                continue\n",
        "            if graph[nx][ny]==0:\n",
        "                continue\n",
        "            if graph[nx][ny]==1:\n",
        "                graph[nx][ny] = graph[x][y] + 1\n",
        "                queue.append((nx,ny))\n",
        "    return graph[n-1][m-1]\n",
        "\n",
        "n,m=map(int,input().split())\n",
        "\n",
        "graph=[]\n",
        "\n",
        "for _ in range(n):\n",
        "    graph.append(list(map(int,input())))\n",
        "\n",
        "dx=[-1,1,0,0]\n",
        "dy=[0,0,-1,1]\n",
        "\n",
        "print(bfs(0,0))"
      ]
    },
    {
      "cell_type": "code",
      "execution_count": null,
      "id": "5e568dc7",
      "metadata": {},
      "outputs": [],
      "source": []
    }
  ],
  "metadata": {
    "colab": {
      "include_colab_link": true,
      "provenance": []
    },
    "kernelspec": {
      "display_name": "Python 3 (ipykernel)",
      "language": "python",
      "name": "python3"
    },
    "language_info": {
      "codemirror_mode": {
        "name": "ipython",
        "version": 3
      },
      "file_extension": ".py",
      "mimetype": "text/x-python",
      "name": "python",
      "nbconvert_exporter": "python",
      "pygments_lexer": "ipython3",
      "version": "3.9.17"
    }
  },
  "nbformat": 4,
  "nbformat_minor": 5
}
